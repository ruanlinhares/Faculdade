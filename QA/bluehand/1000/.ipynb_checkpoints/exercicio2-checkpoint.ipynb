{
 "cells": [
  {
   "cell_type": "code",
   "execution_count": null,
   "id": "7ebe2554",
   "metadata": {},
   "outputs": [],
   "source": [
    "from selenium import webdriver # pip install selenium\n",
    "from selenium.webdriver.chrome.service import Service # pip install webdriver-manager\n",
    "from webdriver_manager.chrome import ChromeDriverManager\n",
    "from selenium.webdriver.common.by import By\n",
    "from selenium.webdriver.common.keys import Keys\n",
    "import time as t\n",
    "\n",
    "sevico = Service(ChromeDriverManager().install())\n",
    "\n",
    "navegador = webdriver.Chrome(service=servico)\n",
    "\n",
    "navegador.get(C:\\Users\\ruan.linhares\\Desktop\\tempo\\Faculdade\\QA\\bluehand\\1000\\index.html)\n",
    "\n",
    "navegador.find_element(Byu.ID, \"name\")\n",
    "select.send_keys(\"RUAN LINHARES\")\n",
    "\n",
    "t.sleep(2)\n",
    "\n",
    "navegador.find_element(Byu.ID, \"name\")\n",
    "select.send_keys(\"RUAN LINHARES\")\n",
    "\n",
    "t.sleep(2)\n",
    "\n",
    "navegador.find_element(Byu.ID, \"name\")\n",
    "select.send_keys(\"RUAN LINHARES\")\n",
    "\n",
    "t.sleep(2)\n",
    "\n",
    "navegador.find_element(Byu.ID, \"name\")\n",
    "select.send_keys(\"RUAN LINHARES\")"
   ]
  }
 ],
 "metadata": {
  "kernelspec": {
   "display_name": "Python 3 (ipykernel)",
   "language": "python",
   "name": "python3"
  },
  "language_info": {
   "codemirror_mode": {
    "name": "ipython",
    "version": 3
   },
   "file_extension": ".py",
   "mimetype": "text/x-python",
   "name": "python",
   "nbconvert_exporter": "python",
   "pygments_lexer": "ipython3",
   "version": "3.11.5"
  }
 },
 "nbformat": 4,
 "nbformat_minor": 5
}
