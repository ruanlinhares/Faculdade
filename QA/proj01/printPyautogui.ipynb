{
 "cells": [
  {
   "cell_type": "code",
   "execution_count": 6,
   "id": "30f7629b",
   "metadata": {},
   "outputs": [],
   "source": [
    "# import de bibliotecas\n",
    "import pyautogui #biblioteca para construcao de aplicacoes\n",
    "import time #biblioteca para controle do tempo\n",
    "\n",
    "pyautogui.press(\"win\") # pressiona uma tecla\n",
    "time.sleep(3)# para a leitura da aplicacao por x segundos\n",
    "pyautogui.write(\"Chrome\")# escreve a frase no parametro\n",
    "time.sleep(3)\n",
    "pyautogui.press(\"enter\")"
   ]
  },
  {
   "cell_type": "code",
   "execution_count": 29,
   "id": "def2fb8e",
   "metadata": {},
   "outputs": [],
   "source": [
    "# Desafio - escrever em uma input de uma aba\n",
    "\n",
    "import pyautogui\n",
    "import time\n",
    "\n",
    "pyautogui.press(\"win\")\n",
    "pyautogui.write(\"Chrome\")\n",
    "pyautogui.press(\"enter\")\n",
    "time.sleep(1)\n",
    "pyautogui.write(\"http://127.0.0.1:5500/form.html\")\n",
    "pyautogui.press(\"enter\")\n",
    "time.sleep(1)\n",
    "pyautogui.press(\"tab\")\n",
    "pyautogui.write(\"Hello World!\")\n"
   ]
  }
 ],
 "metadata": {
  "kernelspec": {
   "display_name": "Python 3 (ipykernel)",
   "language": "python",
   "name": "python3"
  },
  "language_info": {
   "codemirror_mode": {
    "name": "ipython",
    "version": 3
   },
   "file_extension": ".py",
   "mimetype": "text/x-python",
   "name": "python",
   "nbconvert_exporter": "python",
   "pygments_lexer": "ipython3",
   "version": "3.11.5"
  }
 },
 "nbformat": 4,
 "nbformat_minor": 5
}
