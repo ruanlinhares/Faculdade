{
 "cells": [
  {
   "cell_type": "code",
   "execution_count": 16,
   "id": "0a83f2d6",
   "metadata": {},
   "outputs": [],
   "source": [
    "from selenium import webdriver # pip install selenium\n",
    "from selenium.webdriver.chrome.service import Service # pip install webdriver-manager\n",
    "from webdriver_manager.chrome import ChromeDriverManager\n",
    "from selenium.webdriver.common.by import By\n",
    "from selenium.webdriver.common.keys import Keys\n",
    "import time as t\n",
    "\n",
    "\n",
    "#configurando o chrome driver\n",
    "servico = Service(ChromeDriverManager().install())\n",
    "\n",
    "#inicializando o navegador chrome\n",
    "navegador = webdriver.Chrome(service=servico)\n",
    "\n",
    "#abre o site\n",
    "navegador.get(\"http://127.0.0.1:5500/1000/1000/index.html\")\n",
    "t.sleep(2)\n",
    "\n",
    "#metodos de localização\n",
    "\n",
    "select = navegador.find_element(By.ID, \"name\")\n",
    "t.sleep(2)\n",
    "select.send_keys(\"RUAN LINHARES\")\n"
   ]
  }
 ],
 "metadata": {
  "kernelspec": {
   "display_name": "Python 3 (ipykernel)",
   "language": "python",
   "name": "python3"
  },
  "language_info": {
   "codemirror_mode": {
    "name": "ipython",
    "version": 3
   },
   "file_extension": ".py",
   "mimetype": "text/x-python",
   "name": "python",
   "nbconvert_exporter": "python",
   "pygments_lexer": "ipython3",
   "version": "3.11.5"
  }
 },
 "nbformat": 4,
 "nbformat_minor": 5
}
