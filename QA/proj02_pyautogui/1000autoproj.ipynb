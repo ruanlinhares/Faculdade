{
 "cells": [
  {
   "cell_type": "code",
   "execution_count": 5,
   "id": "87768017",
   "metadata": {},
   "outputs": [],
   "source": [
    "#teste do projeto 1000\n",
    "#chave de teste: teste unitario -> caixa branca -> estresse\n",
    "\n",
    "import pyautogui as p\n",
    "import time as t"
   ]
  },
  {
   "cell_type": "code",
   "execution_count": 14,
   "id": "599ccd75",
   "metadata": {},
   "outputs": [
    {
     "ename": "KeyboardInterrupt",
     "evalue": "",
     "output_type": "error",
     "traceback": [
      "\u001b[0;31m---------------------------------------------------------------------------\u001b[0m",
      "\u001b[0;31mKeyboardInterrupt\u001b[0m                         Traceback (most recent call last)",
      "Cell \u001b[0;32mIn[14], line 42\u001b[0m\n\u001b[1;32m     40\u001b[0m     t\u001b[38;5;241m.\u001b[39msleep(\u001b[38;5;241m1\u001b[39m)\n\u001b[1;32m     41\u001b[0m     p\u001b[38;5;241m.\u001b[39mpress(\u001b[38;5;124m\"\u001b[39m\u001b[38;5;124mtab\u001b[39m\u001b[38;5;124m\"\u001b[39m)\n\u001b[0;32m---> 42\u001b[0m     \u001b[43mt\u001b[49m\u001b[38;5;241;43m.\u001b[39;49m\u001b[43msleep\u001b[49m\u001b[43m(\u001b[49m\u001b[38;5;241;43m1\u001b[39;49m\u001b[43m)\u001b[49m\n\u001b[1;32m     43\u001b[0m     p\u001b[38;5;241m.\u001b[39mpress(\u001b[38;5;124m\"\u001b[39m\u001b[38;5;124menter\u001b[39m\u001b[38;5;124m\"\u001b[39m)\n\u001b[1;32m     47\u001b[0m \u001b[38;5;66;03m#teste unitario -> caixa preta -> estresse e invalida (este teste nao e possivel de executar)\u001b[39;00m\n",
      "\u001b[0;31mKeyboardInterrupt\u001b[0m: "
     ]
    }
   ],
   "source": [
    "names = [\n",
    "    \"Ana Clara\", \"João Pedro\", \"Maria Eduarda\", \"Luiz Felipe\", \n",
    "    \"Carlos Eduardo\", \"Beatriz Helena\", \"Rafael Augusto\", \"Sofia Valentina\",\n",
    "    \"Gabriel Henrique\", \"Lara Beatriz\", \"Enzo Gabriel\", \"Isabella Vitória\",\n",
    "    \"Lucas Miguel\", \"Fernanda Cristina\", \"Daniel José\", \"Helena Gabriela\",\n",
    "    \"Mateus Vinícius\", \"Juliana Rafaela\", \"Ricardo Alexandre\", \"Camila Fernanda\",\n",
    "    \"Thiago Samuel\", \"Mariana Luiza\", \"Felipe Gustavo\", \"Sara Emanuelly\",\n",
    "    \"Diego Rafael\", \"Larissa Antônia\", \"Bruno César\", \"Tatiane Michelle\",\n",
    "    \"Leonardo Henrique\", \"Patrícia Lorena\", \"Vinícius Matheus\", \"Adriana Beatriz\",\n",
    "    \"Eduardo Fernando\", \"Letícia Carolina\", \"Antônio Carlos\", \"Valéria Cristina\",\n",
    "    \"Rodrigo Sérgio\", \"Vanessa Priscila\", \"André Luiz\", \"Cíntia Verônica\",\n",
    "    \"Fábio Renato\", \"Jéssica Marlene\", \"Marcelo Roberto\", \"Bianca Eduarda\",\n",
    "    \"Renato César\", \"Natália Eloísa\", \"Fernando Antônio\", \"Gisele Bruna\"\n",
    "]\n",
    "\n",
    "p.press(\"win\")\n",
    "t.sleep(1)\n",
    "p.write(\"chrome\")\n",
    "t.sleep(1)\n",
    "\n",
    "p.press(\"enter\")\n",
    "t.sleep(1)\n",
    "p.write(\"http://127.0.0.1:5500/index.html\")\n",
    "t.sleep(1)\n",
    "p.press(\"enter\")\n",
    "t.sleep(1)\n",
    "\n",
    "#letra\n",
    "for i in range(5):\n",
    "    p.press(\"tab\")\n",
    "\n",
    "t.sleep(1)\n",
    "\n",
    "for j in range(0, len(names)):\n",
    "    t.sleep(1)\n",
    "    p.write(names[j])\n",
    "    t.sleep(1)\n",
    "    p.press(\"tab\")\n",
    "    t.sleep(1)\n",
    "    p.press(\"enter\")\n",
    "    t.sleep(1)\n",
    "    p.press(\"tab\")\n",
    "    t.sleep(1)\n",
    "    p.press(\"enter\")\n",
    "    \n",
    "\n",
    "\n",
    "#teste unitario -> caixa preta -> estresse e invalida (este teste nao e possivel de executar)"
   ]
  }
 ],
 "metadata": {
  "kernelspec": {
   "display_name": "Python 3 (ipykernel)",
   "language": "python",
   "name": "python3"
  },
  "language_info": {
   "codemirror_mode": {
    "name": "ipython",
    "version": 3
   },
   "file_extension": ".py",
   "mimetype": "text/x-python",
   "name": "python",
   "nbconvert_exporter": "python",
   "pygments_lexer": "ipython3",
   "version": "3.12.9"
  }
 },
 "nbformat": 4,
 "nbformat_minor": 5
}
