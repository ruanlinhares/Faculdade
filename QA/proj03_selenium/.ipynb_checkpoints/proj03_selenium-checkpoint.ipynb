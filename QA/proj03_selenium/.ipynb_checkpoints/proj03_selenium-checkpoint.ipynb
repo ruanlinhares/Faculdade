{
 "cells": [
  {
   "cell_type": "code",
   "execution_count": 18,
   "id": "50db6822",
   "metadata": {},
   "outputs": [],
   "source": [
    "# UNITARIO << BRANCA >> CARGA\n",
    "\n",
    "# TRATAMENTOS: Sem números e caracteres especiais, sem espaços e até 10 caracteres\n",
    "from selenium import webdriver\n",
    "from selenium.webdriver.chrome.service import Service\n",
    "from webdriver_manager.chrome import ChromeDriverManager\n",
    "from selenium.webdriver.common.by import By\n",
    "from selenium.webdriver.common.keys import Keys\n",
    "import time as t\n",
    "\n",
    "servico = Service(ChromeDriverManager().install())\n",
    "\n",
    "navegador = webdriver.Chrome(service=servico)\n",
    "\n",
    "navegador.get(\"http://localhost:5500/\")\n",
    "\n",
    "nomes = [\"João\", \n",
    "         \"Maria Silva\", \n",
    "         \"Carlos\", \n",
    "         \"Ana123\", \n",
    "         \"Lucas\", \n",
    "         \"Lucasinho\", \n",
    "         \"Alberto\", \n",
    "         \"M@rcos\", \n",
    "         \"Pedro\", \n",
    "         \"Joãozinho\"]\n",
    "\n",
    "for nome in nomes:\n",
    "        campo_usuario = navegador.find_element(By.ID, \"username\")\n",
    "        \n",
    "        campo_usuario.clear()\n",
    "    \n",
    "        campo_usuario.send_keys(nome)\n",
    "        \n",
    "        submit_button = navegador.find_element(By.ID, \"submitButton\")\n",
    "        submit_button.click()\n",
    "        \n",
    "        t.sleep(2)\n",
    "    \n",
    "        campo_usuario.clear()\n",
    "        \n",
    "        t.sleep(1)\n"
   ]
  },
  {
   "cell_type": "code",
   "execution_count": null,
   "id": "8a2e2531",
   "metadata": {},
   "outputs": [],
   "source": [
    "# 1° configurando o chrome driver\n",
    "# 2° inicializando o navegador (chrome)\n",
    "# 3° defininfo a rota da automação\n",
    "# 4° definindo um vetor de nomes para o teste da automação\n",
    "# 5° criando um laço para percorrer todos os nomes dos nomes\n",
    "    # 6° seleciona o campo com id \"username\"\n",
    "    # 7° limpa o campo id \"username\"\n",
    "    # 8° insere um nome do vetor no campo com id \"username\"\n",
    "    # 9° clica no botao para enviar o valor no campo um id \"username\"\n",
    "    # 10° limpa o campo com id \"username\""
   ]
  },
  {
   "cell_type": "code",
   "execution_count": null,
   "id": "4b056c23",
   "metadata": {},
   "outputs": [],
   "source": []
  }
 ],
 "metadata": {
  "kernelspec": {
   "display_name": "Python 3 (ipykernel)",
   "language": "python",
   "name": "python3"
  },
  "language_info": {
   "codemirror_mode": {
    "name": "ipython",
    "version": 3
   },
   "file_extension": ".py",
   "mimetype": "text/x-python",
   "name": "python",
   "nbconvert_exporter": "python",
   "pygments_lexer": "ipython3",
   "version": "3.11.5"
  }
 },
 "nbformat": 4,
 "nbformat_minor": 5
}
